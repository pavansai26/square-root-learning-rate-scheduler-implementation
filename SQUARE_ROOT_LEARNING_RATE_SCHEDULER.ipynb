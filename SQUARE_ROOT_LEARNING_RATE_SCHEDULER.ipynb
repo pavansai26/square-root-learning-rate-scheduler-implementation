{
  "nbformat": 4,
  "nbformat_minor": 0,
  "metadata": {
    "colab": {
      "name": "SQUARE ROOT LEARNING RATE SCHEDULER.ipynb",
      "provenance": [],
      "private_outputs": true,
      "authorship_tag": "ABX9TyN97LEAmSa+XA8NKDqcjX0h",
      "include_colab_link": true
    },
    "kernelspec": {
      "name": "python3",
      "display_name": "Python 3"
    }
  },
  "cells": [
    {
      "cell_type": "markdown",
      "metadata": {
        "id": "view-in-github",
        "colab_type": "text"
      },
      "source": [
        "<a href=\"https://colab.research.google.com/github/pavansai26/square-root-learning-rate-scheduler-implementation/blob/master/SQUARE_ROOT_LEARNING_RATE_SCHEDULER.ipynb\" target=\"_parent\"><img src=\"https://colab.research.google.com/assets/colab-badge.svg\" alt=\"Open In Colab\"/></a>"
      ]
    },
    {
      "cell_type": "code",
      "metadata": {
        "id": "1ZHiQaEMJE3u",
        "colab_type": "code",
        "colab": {}
      },
      "source": [
        "import numpy as np\n",
        "from numpy import power as powe\n",
        "import matplotlib.pyplot as plt"
      ],
      "execution_count": null,
      "outputs": []
    },
    {
      "cell_type": "markdown",
      "metadata": {
        "id": "loeXYDI3U2ec",
        "colab_type": "text"
      },
      "source": [
        "formula"
      ]
    },
    {
      "cell_type": "markdown",
      "metadata": {
        "id": "jp0GbREzf2bI",
        "colab_type": "text"
      },
      "source": [
        "$\\eta_{E + 1}$= $\\eta_{I}$ * (1 + t)^-0.5"
      ]
    },
    {
      "cell_type": "markdown",
      "metadata": {
        "id": "NHnfGpqhHE--",
        "colab_type": "text"
      },
      "source": [
        "$\\eta_{I}$ is the initial learning rate\n",
        "\n",
        "t is the current epoch"
      ]
    },
    {
      "cell_type": "markdown",
      "metadata": {
        "id": "zuPtDJrQU47p",
        "colab_type": "text"
      },
      "source": [
        "implementation"
      ]
    },
    {
      "cell_type": "code",
      "metadata": {
        "id": "g1mQkDgZO91_",
        "colab_type": "code",
        "colab": {}
      },
      "source": [
        "class SquareRootScheduler:\n",
        "    def __init__(self, lr=0.1):\n",
        "        self.lr = lr\n",
        "\n",
        "    def __call__(self, epoch):\n",
        "        return self.lr * pow(epoch + 1.0, -0.5)"
      ],
      "execution_count": null,
      "outputs": []
    },
    {
      "cell_type": "markdown",
      "metadata": {
        "id": "b84K7nzPU83d",
        "colab_type": "text"
      },
      "source": [
        "visulization"
      ]
    },
    {
      "cell_type": "code",
      "metadata": {
        "id": "Sf4Bt3LsPlWx",
        "colab_type": "code",
        "colab": {}
      },
      "source": [
        "num_epochs = 50\n",
        "scheduler = SquareRootScheduler(1.0)\n",
        "plt.plot(np.arange(num_epochs),[scheduler(i) for i in range(num_epochs)])"
      ],
      "execution_count": null,
      "outputs": []
    },
    {
      "cell_type": "code",
      "metadata": {
        "id": "KW6f9McyRjJj",
        "colab_type": "code",
        "colab": {}
      },
      "source": [
        ""
      ],
      "execution_count": null,
      "outputs": []
    }
  ]
}